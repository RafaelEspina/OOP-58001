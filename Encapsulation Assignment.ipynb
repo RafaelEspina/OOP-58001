{
  "nbformat": 4,
  "nbformat_minor": 0,
  "metadata": {
    "colab": {
      "name": "Encapsulation.ipynb",
      "provenance": [],
      "authorship_tag": "ABX9TyMRDznZRc3aV99fOdMqemBI",
      "include_colab_link": true
    },
    "kernelspec": {
      "name": "python3",
      "display_name": "Python 3"
    },
    "language_info": {
      "name": "python"
    }
  },
  "cells": [
    {
      "cell_type": "markdown",
      "metadata": {
        "id": "view-in-github",
        "colab_type": "text"
      },
      "source": [
        "<a href=\"https://colab.research.google.com/github/RafaelEspina/OOP-58001/blob/main/Encapsulation%20Assignment.ipynb\" target=\"_parent\"><img src=\"https://colab.research.google.com/assets/colab-badge.svg\" alt=\"Open In Colab\"/></a>"
      ]
    },
    {
      "cell_type": "code",
      "execution_count": 39,
      "metadata": {
        "colab": {
          "base_uri": "https://localhost:8080/"
        },
        "id": "FY2jPWz2_Qx7",
        "outputId": "6049ff10-3106-4911-a6d0-c0c0ea160db2"
      },
      "outputs": [
        {
          "output_type": "stream",
          "name": "stdout",
          "text": [
            "Denzel got an average grade of 9.0 in the prelim, 8.1 in the midterm, and 9.600000000000001 in the final term\n",
            "kate got an average grade of 4.5 in the prelim, 5.3999999999999995 in the midterm, and 8.4 in the final term\n",
            "Mark got an average grade of 3.5999999999999996 in the prelim, 1.7999999999999998 in the midterm, and 3.6 in the final term\n"
          ]
        }
      ],
      "source": [
        "class person:\n",
        "  def __init__(self, student, pre, mid, fin):\n",
        "    self._student = student\n",
        "    self._pre = pre * 0.3\n",
        "    self._mid = mid * 0.3\n",
        "    self._fin = fin * 0.4\n",
        "  \n",
        "  def grade(self):\n",
        "    return f'{self._student} got an average grade of {self._pre} in the prelim, {self._mid} in the midterm, and {self._fin} in the final term'\n",
        "    \n",
        "  \n",
        "std1 = person(\"Denzel\", 30, 27, 24)\n",
        "std2 = person(\"kate\", 15, 18, 21)\n",
        "std3 = person(\"Mark\", 12, 6, 9)\n",
        "\n",
        "print(std1.grade())\n",
        "print(std2.grade())\n",
        "print(std3.grade())"
      ]
    }
  ]
}