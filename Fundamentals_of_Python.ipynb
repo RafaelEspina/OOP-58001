{
  "nbformat": 4,
  "nbformat_minor": 0,
  "metadata": {
    "colab": {
      "name": "Fundamentals of Python.ipynb",
      "provenance": [],
      "include_colab_link": true
    },
    "kernelspec": {
      "name": "python3",
      "display_name": "Python 3"
    },
    "language_info": {
      "name": "python"
    }
  },
  "cells": [
    {
      "cell_type": "markdown",
      "metadata": {
        "id": "view-in-github",
        "colab_type": "text"
      },
      "source": [
        "<a href=\"https://colab.research.google.com/github/RafaelEspina/OOP-58001/blob/main/Fundamentals_of_Python.ipynb\" target=\"_parent\"><img src=\"https://colab.research.google.com/assets/colab-badge.svg\" alt=\"Open In Colab\"/></a>"
      ]
    },
    {
      "cell_type": "markdown",
      "source": [
        "Self Testing |\n",
        "\n",
        "I was testing while in class"
      ],
      "metadata": {
        "id": "FfBtK_AnK5X5"
      }
    },
    {
      "cell_type": "code",
      "execution_count": null,
      "metadata": {
        "colab": {
          "base_uri": "https://localhost:8080/"
        },
        "id": "k8ynKOGXjR8x",
        "outputId": "71354023-47a5-4fb0-a266-4c4795a4ac28"
      },
      "outputs": [
        {
          "output_type": "stream",
          "name": "stdout",
          "text": [
            "True\n"
          ]
        }
      ],
      "source": [
        "txt = \"The best things in life are free!\"\n",
        "print(\"expensive\" not in txt)"
      ]
    },
    {
      "cell_type": "code",
      "source": [
        "testing = [\"Aira\", \"Hermie\", \"Mark\", \"Rafael\", \"Rosanella\", \"Sam\"]\n",
        "print(testing)\n",
        "for x in testing:\n",
        "  print (x)"
      ],
      "metadata": {
        "colab": {
          "base_uri": "https://localhost:8080/"
        },
        "id": "cFG01N9Ak9Gi",
        "outputId": "466dce30-912b-400d-f734-3a9aa0a52910"
      },
      "execution_count": null,
      "outputs": [
        {
          "output_type": "stream",
          "name": "stdout",
          "text": [
            "['Aira', 'Hermie', 'Mark', 'Rafael', 'Rosanella', 'Sam']\n",
            "Aira\n",
            "Hermie\n",
            "Mark\n",
            "Rafael\n",
            "Rosanella\n",
            "Sam\n"
          ]
        }
      ]
    },
    {
      "cell_type": "code",
      "source": [
        "x = 1\n",
        "y = 2\n",
        "z = 3\n",
        "print (x,\"\\n\",y, z)\n",
        "print(\"Hello \\nWorld\")"
      ],
      "metadata": {
        "colab": {
          "base_uri": "https://localhost:8080/"
        },
        "id": "f67zZZBNo-zn",
        "outputId": "6a9369ac-967f-40af-8c20-85f4160ea757"
      },
      "execution_count": null,
      "outputs": [
        {
          "output_type": "stream",
          "name": "stdout",
          "text": [
            "1 \n",
            " 2 3\n",
            "Hello \n",
            "World\n"
          ]
        }
      ]
    },
    {
      "cell_type": "markdown",
      "source": [
        "Paano tanggalin yung space after ng new line??????"
      ],
      "metadata": {
        "id": "E7roOVHRspQV"
      }
    },
    {
      "cell_type": "code",
      "source": [
        "txt1 = \"Hooyah\"\n",
        "txt2 = \"ara ara\"\n",
        "\n",
        "\n",
        "\"\"\"for x in txt1:\n",
        "  for y in txt2:\n",
        "   print(x,y)\n",
        "  else:\n",
        "    print(\"Di ko alam ginagawa ko :DDDDDDDDDDDDDDDD\")\n",
        "    \"\"\"\n",
        "testing1 = [\"one\", \"two\", \"three\"]\n",
        "\n",
        "for x in txt1:\n",
        "  print(txt1)\n",
        "\n",
        "for x in range(2, 30, 3):\n",
        "  print(x)\n",
        "\n",
        "\"\"\"\n",
        "ahhh gets ko na\n",
        "\"\"\"\n",
        "\n",
        "for x in range(2):\n",
        "  print(txt1)\n"
      ],
      "metadata": {
        "colab": {
          "base_uri": "https://localhost:8080/"
        },
        "id": "FzJBivRUpbLo",
        "outputId": "89c943ea-0a40-4a40-b9e1-9cabaa5fc80b"
      },
      "execution_count": 19,
      "outputs": [
        {
          "output_type": "stream",
          "name": "stdout",
          "text": [
            "Hooyah\n",
            "Hooyah\n",
            "Hooyah\n",
            "Hooyah\n",
            "Hooyah\n",
            "Hooyah\n",
            "2\n",
            "5\n",
            "8\n",
            "11\n",
            "14\n",
            "17\n",
            "20\n",
            "23\n",
            "26\n",
            "29\n",
            "Hooyah\n",
            "Hooyah\n"
          ]
        }
      ]
    },
    {
      "cell_type": "markdown",
      "source": [
        "End of Self Testing"
      ],
      "metadata": {
        "id": "3OkETjicK8oZ"
      }
    },
    {
      "cell_type": "markdown",
      "source": [
        "Python Casting"
      ],
      "metadata": {
        "id": "zEfUmtLRLKFr"
      }
    },
    {
      "cell_type": "code",
      "source": [
        "b = 1 #Int\n",
        "a = \"Rosanella\" #String\n",
        "print (a)\n",
        "print (b)\n",
        "\n",
        "print (type(a))\n",
        "print (type(b))"
      ],
      "metadata": {
        "id": "NB4fmUBetKj4",
        "outputId": "d5ce06cc-0e42-4d97-ae57-498086ce27df",
        "colab": {
          "base_uri": "https://localhost:8080/"
        }
      },
      "execution_count": 2,
      "outputs": [
        {
          "output_type": "stream",
          "name": "stdout",
          "text": [
            "Rosanella\n",
            "1\n",
            "<class 'str'>\n",
            "<class 'int'>\n"
          ]
        }
      ]
    },
    {
      "cell_type": "code",
      "source": [
        "x, y, z = \"one\", \"two\", 3\n",
        "q = w = e = \"calliope\"\n",
        "r,f,v = \"Ten\"\n",
        "l = \"Python is \"\n",
        "m = \"fun\"\n",
        "n = l + m\n",
        "print (x,y, z)\n",
        "print (q,w,e)\n",
        "print (r,f,v)\n",
        "print (n)"
      ],
      "metadata": {
        "id": "GhsaayFTLeVj",
        "outputId": "8edc1104-d702-4613-bfef-ec68c305afc4",
        "colab": {
          "base_uri": "https://localhost:8080/"
        }
      },
      "execution_count": 18,
      "outputs": [
        {
          "output_type": "stream",
          "name": "stdout",
          "text": [
            "one two 3\n",
            "calliope calliope calliope\n",
            "T e n\n",
            "Python is fun\n"
          ]
        }
      ]
    },
    {
      "cell_type": "markdown",
      "source": [
        "Arithmetic Operation"
      ],
      "metadata": {
        "id": "4lIpB8V7OdG5"
      }
    },
    {
      "cell_type": "code",
      "source": [
        "addition = 7 + 8\n",
        "subtraction = 5 - 27\n",
        "multiplication = 8 * 3\n",
        "division = 9 / 3\n",
        "modulus = 28 % 9\n",
        "exponentiation = 4**2\n",
        "Floor_Division = 9//3\n",
        "\n",
        "print (addition)\n",
        "print (subtraction)\n",
        "print (multiplication)\n",
        "print (division)\n",
        "print (modulus)\n",
        "print (exponentiation)\n",
        "print (Floor_Division)"
      ],
      "metadata": {
        "id": "ddfsYHnfMmrs",
        "outputId": "a31721c6-6290-4c56-d0bc-997483567828",
        "colab": {
          "base_uri": "https://localhost:8080/"
        }
      },
      "execution_count": 20,
      "outputs": [
        {
          "output_type": "stream",
          "name": "stdout",
          "text": [
            "15\n",
            "-22\n",
            "24\n",
            "3.0\n",
            "1\n",
            "16\n",
            "3\n"
          ]
        }
      ]
    },
    {
      "cell_type": "markdown",
      "source": [
        "Comparison Operator"
      ],
      "metadata": {
        "id": "_BCHPgurPjPH"
      }
    },
    {
      "cell_type": "code",
      "source": [
        "txt = \"The best things in life are free!\"\n",
        "print(\"expensive\" not in txt) #not\n",
        "\n",
        "x = 10\n",
        "y = 20\n",
        "z = 10\n",
        "\n",
        "print (x == z and x > y)\n",
        "print (x == z and x < y)\n",
        "print (x == z or x > y)\n",
        "print (\"-----------------\")\n",
        "print (x is z)\n",
        "print (x is not y)"
      ],
      "metadata": {
        "id": "W7UCeO9ePkm5",
        "outputId": "500001cd-9a9b-4444-99b0-3f4c13b65d91",
        "colab": {
          "base_uri": "https://localhost:8080/"
        }
      },
      "execution_count": 25,
      "outputs": [
        {
          "output_type": "stream",
          "name": "stdout",
          "text": [
            "True\n",
            "False\n",
            "True\n",
            "True\n",
            "-----------------\n",
            "True\n",
            "True\n"
          ]
        }
      ]
    }
  ]
}