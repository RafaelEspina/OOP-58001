{
  "nbformat": 4,
  "nbformat_minor": 0,
  "metadata": {
    "colab": {
      "name": "Fundamentals of Python.ipynb",
      "provenance": [],
      "authorship_tag": "ABX9TyOM6lwS+0cJDY+kf3R2rzZx",
      "include_colab_link": true
    },
    "kernelspec": {
      "name": "python3",
      "display_name": "Python 3"
    },
    "language_info": {
      "name": "python"
    }
  },
  "cells": [
    {
      "cell_type": "markdown",
      "metadata": {
        "id": "view-in-github",
        "colab_type": "text"
      },
      "source": [
        "<a href=\"https://colab.research.google.com/github/RafaelEspina/OOP-58001/blob/main/Fundamentals_of_Python.ipynb\" target=\"_parent\"><img src=\"https://colab.research.google.com/assets/colab-badge.svg\" alt=\"Open In Colab\"/></a>"
      ]
    },
    {
      "cell_type": "code",
      "execution_count": 1,
      "metadata": {
        "colab": {
          "base_uri": "https://localhost:8080/"
        },
        "id": "k8ynKOGXjR8x",
        "outputId": "71354023-47a5-4fb0-a266-4c4795a4ac28"
      },
      "outputs": [
        {
          "output_type": "stream",
          "name": "stdout",
          "text": [
            "True\n"
          ]
        }
      ],
      "source": [
        "txt = \"The best things in life are free!\"\n",
        "print(\"expensive\" not in txt)"
      ]
    },
    {
      "cell_type": "code",
      "source": [
        "testing = [\"Aira\", \"Hermie\", \"Mark\", \"Rafael\", \"Rosanella\", \"Sam\"]\n",
        "print(testing)"
      ],
      "metadata": {
        "colab": {
          "base_uri": "https://localhost:8080/"
        },
        "id": "cFG01N9Ak9Gi",
        "outputId": "96e48c9a-cb0a-4de7-e673-dd7bca60e773"
      },
      "execution_count": 3,
      "outputs": [
        {
          "output_type": "stream",
          "name": "stdout",
          "text": [
            "['Aira', 'Hermie', 'Mark', 'Rafael', 'Rosanella', 'Sam']\n"
          ]
        }
      ]
    },
    {
      "cell_type": "code",
      "source": [
        "x = 1\n",
        "y = 2\n",
        "z = 3\n",
        "print (x,\"\\n\",y, z)\n",
        "print(\"Hello \\nWorld\")"
      ],
      "metadata": {
        "colab": {
          "base_uri": "https://localhost:8080/"
        },
        "id": "f67zZZBNo-zn",
        "outputId": "6a9369ac-967f-40af-8c20-85f4160ea757"
      },
      "execution_count": 23,
      "outputs": [
        {
          "output_type": "stream",
          "name": "stdout",
          "text": [
            "1 \n",
            " 2 3\n",
            "Hello \n",
            "World\n"
          ]
        }
      ]
    },
    {
      "cell_type": "markdown",
      "source": [
        "Paano tanggalin yung space after ng new line??????"
      ],
      "metadata": {
        "id": "E7roOVHRspQV"
      }
    },
    {
      "cell_type": "code",
      "source": [
        "txt1 = \"Hooyah\"\n",
        "txt2 = \"ara ara\"\n",
        "x = 1\n",
        "y = 2\n",
        "\n",
        "\"\"\"for x in txt1:\n",
        "  for y in txt2:\n",
        "   print(x,y)\n",
        "  else:\n",
        "    print(\"Di ko alam ginagawa ko :DDDDDDDDDDDDDDDD\")\n",
        "    \"\"\"\n",
        "testing1 = [\"one\", \"two\", \"three\"]\n",
        "\n",
        "for x in txt1:\n",
        "  print(x)\n",
        "  print(txt1)\n",
        "\n",
        "for x in range(2, 30, 3):\n",
        "  print(x)\n"
      ],
      "metadata": {
        "colab": {
          "base_uri": "https://localhost:8080/"
        },
        "id": "FzJBivRUpbLo",
        "outputId": "e4b41d89-d283-446f-e5a1-3fdf79ef9384"
      },
      "execution_count": 52,
      "outputs": [
        {
          "output_type": "stream",
          "name": "stdout",
          "text": [
            "H\n",
            "Hooyah\n",
            "o\n",
            "Hooyah\n",
            "o\n",
            "Hooyah\n",
            "y\n",
            "Hooyah\n",
            "a\n",
            "Hooyah\n",
            "h\n",
            "Hooyah\n",
            "2\n",
            "5\n",
            "8\n",
            "11\n",
            "14\n",
            "17\n",
            "20\n",
            "23\n",
            "26\n",
            "29\n"
          ]
        }
      ]
    },
    {
      "cell_type": "markdown",
      "source": [
        "Mas trip ko padin for loop ng C++ HAHAHAHAHHA || Bat ang daming Hooyah??? HAHHAHAHA di ko talaga gets yung for loop ng python"
      ],
      "metadata": {
        "id": "Yb2gvyvCv45N"
      }
    },
    {
      "cell_type": "code",
      "source": [
        ""
      ],
      "metadata": {
        "id": "NB4fmUBetKj4"
      },
      "execution_count": null,
      "outputs": []
    }
  ]
}