{
  "nbformat": 4,
  "nbformat_minor": 0,
  "metadata": {
    "colab": {
      "name": "Long Quiz 1 .ipynb",
      "provenance": [],
      "authorship_tag": "ABX9TyNo9AQwPXPa3A1XO4sD8bX5",
      "include_colab_link": true
    },
    "kernelspec": {
      "name": "python3",
      "display_name": "Python 3"
    },
    "language_info": {
      "name": "python"
    }
  },
  "cells": [
    {
      "cell_type": "markdown",
      "metadata": {
        "id": "view-in-github",
        "colab_type": "text"
      },
      "source": [
        "<a href=\"https://colab.research.google.com/github/RafaelEspina/OOP-58001/blob/main/Long_Quiz_1_.ipynb\" target=\"_parent\"><img src=\"https://colab.research.google.com/assets/colab-badge.svg\" alt=\"Open In Colab\"/></a>"
      ]
    },
    {
      "cell_type": "code",
      "execution_count": 45,
      "metadata": {
        "colab": {
          "base_uri": "https://localhost:8080/"
        },
        "id": "n-3c1O3wE6Mm",
        "outputId": "972ba48c-3a7f-405f-ad7f-88bb8da33a20"
      },
      "outputs": [
        {
          "output_type": "stream",
          "name": "stdout",
          "text": [
            "Enter the radius of the circle: 10\n",
            "The Area of the circlel is: 314.1592653589793\n",
            "The perimeter of the circle is: 62.83185307179586\n"
          ]
        }
      ],
      "source": [
        "import math\n",
        "\n",
        "class circle():\n",
        "\n",
        "  def __init__(self, radius):\n",
        "    self.radius = float(radius)\n",
        "    \n",
        "  def perimeter(self):\n",
        "    return 2 * math.pi * self.radius\n",
        "\n",
        "  def area(self):\n",
        "    return math.pi * (self.radius**2)\n",
        "\n",
        "  def Display(self):\n",
        "    print(\"The Area of the circlel is:\", self.area())\n",
        "    print(\"The perimeter of the circle is:\", self.perimeter())\n",
        "\n",
        "while True:\n",
        "  try:\n",
        "    radius_Circle = float(input(\"Enter the radius of the circle: \"))\n",
        "    break\n",
        "  except ValueError:\n",
        "    print(\"Please input a number.\")\n",
        "    continue\n",
        "\n",
        "if radius_Circle < 0:\n",
        "  print(\"Radius should be positive. Please try again.\")\n",
        "\n",
        "answer = circle(radius_Circle)\n",
        "answer.Display()"
      ]
    }
  ]
}