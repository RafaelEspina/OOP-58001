{
  "nbformat": 4,
  "nbformat_minor": 0,
  "metadata": {
    "colab": {
      "name": "OOP Concepts 2.ipynb",
      "provenance": [],
      "authorship_tag": "ABX9TyMonWLqHnHOJTEfgaT3AOgN",
      "include_colab_link": true
    },
    "kernelspec": {
      "name": "python3",
      "display_name": "Python 3"
    },
    "language_info": {
      "name": "python"
    }
  },
  "cells": [
    {
      "cell_type": "markdown",
      "metadata": {
        "id": "view-in-github",
        "colab_type": "text"
      },
      "source": [
        "<a href=\"https://colab.research.google.com/github/RafaelEspina/OOP-58001/blob/main/OOP_Concepts_2.ipynb\" target=\"_parent\"><img src=\"https://colab.research.google.com/assets/colab-badge.svg\" alt=\"Open In Colab\"/></a>"
      ]
    },
    {
      "cell_type": "markdown",
      "source": [
        "Create a Python program that displays the name of three students (Student 1, Student 2, and Student 3) and their term grades"
      ],
      "metadata": {
        "id": "sJ5Q_l9cdGpL"
      }
    },
    {
      "cell_type": "code",
      "execution_count": 1,
      "metadata": {
        "colab": {
          "base_uri": "https://localhost:8080/"
        },
        "id": "FY2jPWz2_Qx7",
        "outputId": "6862abaa-21cd-4b1b-dfe7-d71944b28436"
      },
      "outputs": [
        {
          "output_type": "stream",
          "name": "stdout",
          "text": [
            "Denzel got an average grade of 0.8999999999999999 in the prelim, 0.44999999999999996 in the midterm, and 0.8 in the final term\n",
            "kate got an average grade of 0.3 in the prelim, 0.75 in the midterm, and 0.6000000000000001 in the final term\n",
            "Mark got an average grade of 0.825 in the prelim, 0.6 in the midterm, and 0.7000000000000001 in the final term\n"
          ]
        }
      ],
      "source": [
        "class person:\n",
        "  def __init__(self, student, pre, mid, fin):\n",
        "    self._student = student\n",
        "    self._pre = pre * 0.3\n",
        "    self._mid = mid * 0.3\n",
        "    self._fin = fin * 0.4\n",
        "  \n",
        "  def grade(self):\n",
        "    return f'{self._student} got an average grade of {self._pre} in the prelim, {self._mid} in the midterm, and {self._fin} in the final term'\n",
        "    \n",
        "  \n",
        "std1 = person(\"Denzel\", 3, 1.5, 2)\n",
        "std2 = person(\"kate\", 1, 2.5, 1.5)\n",
        "std3 = person(\"Mark\", 2.75, 2, 1.75)\n",
        "\n",
        "print(std1.grade())\n",
        "print(std2.grade())\n",
        "print(std3.grade())"
      ]
    },
    {
      "cell_type": "markdown",
      "source": [
        "Classes with multiple objects"
      ],
      "metadata": {
        "id": "xIBOQSpoaX5M"
      }
    },
    {
      "cell_type": "code",
      "source": [
        "class Birds:\n",
        " def __init__(self, bird_name):\n",
        "   self.bird_name = bird_name\n",
        "\n",
        " def flying_birds(self):\n",
        "   print(f\"{self.bird_name} flies above clouds\")\n",
        "\n",
        " def non_flying_birds(self):\n",
        "    print(f\"{self.bird_name} is the national bird of the Philippines\")\n",
        "\n",
        "\n",
        "vulture=Birds(\"Griffon Vulture\")\n",
        "crane=Birds(\"Commom Crane\")\n",
        "emu=Birds(\"Emu\")\n",
        "\n",
        "vulture.flying_birds()\n",
        "crane.flying_birds()\n",
        "emu.non_flying_birds()"
      ],
      "metadata": {
        "id": "kp8FmNxfadL0"
      },
      "execution_count": null,
      "outputs": []
    },
    {
      "cell_type": "markdown",
      "source": [
        "Encapsulation with private attributes"
      ],
      "metadata": {
        "id": "W1APin7Paf7H"
      }
    },
    {
      "cell_type": "code",
      "source": [
        "class foo:\n",
        " def __init__(self, a, b):\n",
        "   self.a = a\n",
        "   self.b = b\n",
        " def add(self):\n",
        "   return self.a+self.b\n",
        "\n",
        "foo_object = foo(3,4) \n",
        "#foo_object.add()\n",
        "\n",
        "\n",
        "foo_object.a = 6 \n",
        "foo_object.add()"
      ],
      "metadata": {
        "colab": {
          "base_uri": "https://localhost:8080/"
        },
        "id": "eZd9Qjsyai8D",
        "outputId": "e138a1e9-4ffc-4a24-afca-4f749258762b"
      },
      "execution_count": 2,
      "outputs": [
        {
          "output_type": "execute_result",
          "data": {
            "text/plain": [
              "10"
            ]
          },
          "metadata": {},
          "execution_count": 2
        }
      ]
    },
    {
      "cell_type": "code",
      "source": [
        "#if self.a is self._a, a will not become 6\n",
        "\n",
        "class foo:\n",
        " def __init__(self, a, b):\n",
        "   self._a = a\n",
        "   self._b = b\n",
        " def add(self):\n",
        "   return self._a+self._b\n",
        "\n",
        "foo_object = foo(3,4) \n",
        "#foo_object.add()\n",
        "\n",
        "\n",
        "foo_object.a = 6 \n",
        "foo_object.add()"
      ],
      "metadata": {
        "colab": {
          "base_uri": "https://localhost:8080/"
        },
        "id": "MriQc4_Qa-O5",
        "outputId": "2fbc111d-89e4-432a-9323-cde76240e673"
      },
      "execution_count": 7,
      "outputs": [
        {
          "output_type": "execute_result",
          "data": {
            "text/plain": [
              "7"
            ]
          },
          "metadata": {},
          "execution_count": 7
        }
      ]
    },
    {
      "cell_type": "markdown",
      "source": [
        "Encapsulation by mangling with double underscores"
      ],
      "metadata": {
        "id": "xrZk7Kkbb79h"
      }
    },
    {
      "cell_type": "code",
      "source": [
        "class Counter:\n",
        "    def __init__(self):\n",
        "        self.current = 0 #Initialization\n",
        "\n",
        "    def increment(self):\n",
        "        self.current += 1     #will add 1 to current\n",
        "\n",
        "    def value(self):\n",
        "        return self.current #To show the value of current\n",
        "\n",
        "    def reset(self):\n",
        "        self.current = 0 #to reset current to 0\n",
        "        \n",
        "counter = Counter()\n",
        "\n",
        "counter.increment()\n",
        "#counter.increment()\n",
        "#counter.increment()\n",
        "\n",
        "print(counter.value())\n",
        "#print(counter.__current)\n",
        "#print(counter.reset())"
      ],
      "metadata": {
        "id": "jrV6V-Avb90B"
      },
      "execution_count": null,
      "outputs": []
    },
    {
      "cell_type": "markdown",
      "source": [
        "Inheritance"
      ],
      "metadata": {
        "id": "C-vvWCqmcc7Y"
      }
    },
    {
      "cell_type": "code",
      "source": [
        "class Person:\n",
        "  def __init__(self, fname, sname):\n",
        "    self.fname = fname\n",
        "    self.sname = sname\n",
        "\n",
        "  def printname(self):\n",
        "    print(self.fname, self.sname)\n",
        "\n",
        "t = Person(\"Rafael\", \"Espiña\")\n",
        "t.printname()\n",
        "\n",
        "class Actress(Person):\n",
        " pass\n",
        "a = Actress(\"Anya\", \"Taylor-Joy\")\n",
        "a.printname()"
      ],
      "metadata": {
        "id": "z8IyfqCDcePX"
      },
      "execution_count": null,
      "outputs": []
    },
    {
      "cell_type": "markdown",
      "source": [
        "\n",
        "\n",
        "Polymorphism\n"
      ],
      "metadata": {
        "id": "wS3mmntFcfyw"
      }
    },
    {
      "cell_type": "code",
      "source": [
        "class RegularPolygon:\n",
        "  def __init__(self, side):\n",
        "    self._side = side\n",
        "\n",
        "class Square(RegularPolygon):\n",
        "  def area(self):\n",
        "    return self._side * self._side\n",
        "\n",
        "class EquilateralTriangle(RegularPolygon):\n",
        "  def area(self):\n",
        "    return self._side*self._side*0.433\n",
        "\n",
        "obj1 = Square(4)\n",
        "obj2 = EquilateralTriangle(3)\n",
        "\n",
        "print(obj1.area())\n",
        "print(obj2.area())"
      ],
      "metadata": {
        "id": "ZeRAC7VBchQI"
      },
      "execution_count": null,
      "outputs": []
    }
  ]
}