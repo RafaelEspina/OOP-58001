{
  "nbformat": 4,
  "nbformat_minor": 0,
  "metadata": {
    "colab": {
      "name": "OOP in Python.ipynb",
      "provenance": [],
      "authorship_tag": "ABX9TyOe3mj0B1/7iKoTh3uXzEGV",
      "include_colab_link": true
    },
    "kernelspec": {
      "name": "python3",
      "display_name": "Python 3"
    },
    "language_info": {
      "name": "python"
    }
  },
  "cells": [
    {
      "cell_type": "markdown",
      "metadata": {
        "id": "view-in-github",
        "colab_type": "text"
      },
      "source": [
        "<a href=\"https://colab.research.google.com/github/RafaelEspina/OOP-58001/blob/main/OOP_in_Python.ipynb\" target=\"_parent\"><img src=\"https://colab.research.google.com/assets/colab-badge.svg\" alt=\"Open In Colab\"/></a>"
      ]
    },
    {
      "cell_type": "markdown",
      "source": [
        "Pyhton OOP Concepts"
      ],
      "metadata": {
        "id": "Zq7uq2AD5Js6"
      }
    },
    {
      "cell_type": "code",
      "execution_count": 2,
      "metadata": {
        "colab": {
          "base_uri": "https://localhost:8080/"
        },
        "id": "0EGISv34qB_p",
        "outputId": "727da6c9-a95e-41a2-a036-47d4571153f6"
      },
      "outputs": [
        {
          "output_type": "stream",
          "name": "stdout",
          "text": [
            "<__main__.Car object at 0x7f2f66e65c90>\n"
          ]
        }
      ],
      "source": [
        "#Class\n",
        "#A \"Class\" is a collection of objects\n",
        "\n",
        "#Example\n",
        "class Car:\n",
        "  pass\n",
        "\n",
        "#Object and Object Transmission\n",
        "obj1 = Car()\n",
        "\n",
        "print(obj1)\n"
      ]
    },
    {
      "cell_type": "code",
      "source": [
        "#Class Constructor\n",
        "#To fill up the class with the properties of the car.\n",
        "#It assigns the value to the data members of the class when an object is created\n",
        "#of the class is created.\n",
        "\n",
        "class Car:\n",
        "  def __init__(self,name,color):\n",
        "    self.name = name\n",
        "    self.color = color"
      ],
      "metadata": {
        "id": "7sct3r73_qiH"
      },
      "execution_count": 14,
      "outputs": []
    },
    {
      "cell_type": "code",
      "source": [
        "#Example\n",
        "\n",
        "class Car:\n",
        "  car_type = \"Sedan\"\n",
        "\n",
        "  def __init__(self,name,mileage):\n",
        "    self.name = name\n",
        "    self.mileage = mileage\n",
        "  \n",
        "  def description(self):\n",
        "    return f'The {self.name} car gives the mileage of {self.mileage}km/l'\n",
        "  \n",
        "  def max_speed(self,speed):\n",
        "    return f\"The {self.name} runs at the maximum speed of {speed}km/hr\"\n",
        "\n",
        "obj2 = Car(\"Honda City\", 24.1)\n",
        "print(obj2.description())\n",
        "print(obj2.max_speed(150))"
      ],
      "metadata": {
        "colab": {
          "base_uri": "https://localhost:8080/"
        },
        "id": "fr7_MFYBDiDC",
        "outputId": "e488bc44-cacd-4059-e612-afd7b836980e"
      },
      "execution_count": 46,
      "outputs": [
        {
          "output_type": "stream",
          "name": "stdout",
          "text": [
            "The Honda City car gives the mileage of 24.1km/l\n",
            "The Honda City runs at the maximum speed of 150km/hr\n"
          ]
        }
      ]
    },
    {
      "cell_type": "code",
      "source": [
        "#Inheritance\n",
        "#is the procedure in which one class inherits the attributes and methods of another class.\n",
        "\n",
        "#syntax\n",
        "class parent_class:\n",
        "  print(\"Place Holder\")\n",
        "  #body of parent class\n",
        "class child_class(parent_class):\n",
        "  print(\"Place Holder\")\n",
        "  #body of child class"
      ],
      "metadata": {
        "colab": {
          "base_uri": "https://localhost:8080/"
        },
        "id": "3cjmm2tDD56M",
        "outputId": "695a5a23-62d6-465b-980d-6ccaa791f286"
      },
      "execution_count": 43,
      "outputs": [
        {
          "output_type": "stream",
          "name": "stdout",
          "text": [
            "Place Holder\n",
            "Place Holder\n"
          ]
        }
      ]
    },
    {
      "cell_type": "code",
      "source": [
        "class Car:              #Parent Class\n",
        "\n",
        "  def __init__(self, name, mileage):\n",
        "    self.name = name\n",
        "    self.mileage = mileage\n",
        "  \n",
        "  def description(self):\n",
        "    return f\"the {self.name} car gives the milieage of {self.mileage}km/l\"\n",
        "\n",
        "class BMW(Car):         #Child Class\n",
        "  pass\n",
        "\n",
        "class Audi(Car):\n",
        "  def audi_desc(self):\n",
        "    return \"This is the descirption method of class of Audi\"\n",
        "\n",
        "obj1 = BMW(\"BMW 7-series\", 39.53)\n",
        "print(obj1.description())\n",
        "\n",
        "print(\"\\n\")\n",
        "\n",
        "obj2 = Audi(\"Audi A8 L\", 14)\n",
        "print(obj2.description())\n",
        "print(obj2.audi_desc())"
      ],
      "metadata": {
        "colab": {
          "base_uri": "https://localhost:8080/"
        },
        "id": "Z5tr2fIpSsRb",
        "outputId": "e427a7e0-7ccd-4670-c5be-7ab9eb425f60"
      },
      "execution_count": 50,
      "outputs": [
        {
          "output_type": "stream",
          "name": "stdout",
          "text": [
            "the BMW 7-series car gives the milieage of 39.53km/l\n",
            "\n",
            "\n",
            "the Audi A8 L car gives the milieage of 14km/l\n",
            "This is the descirption method of class of Audi\n"
          ]
        }
      ]
    },
    {
      "cell_type": "code",
      "source": [
        "#Encapsulation\n",
        "\n",
        "class Car:\n",
        "  car_type = \"Sedan\"\n",
        "\n",
        "  def __init__(self,name,mileage):\n",
        "    self.name = name                #protected variable\n",
        "    self.mileage = mileage\n",
        "  \n",
        "  def description(self):\n",
        "    return f'The {self.name} car gives the mileage of {self.mileage}km/l'\n",
        "  \n",
        "  def max_speed(self,speed):\n",
        "    return f\"The {self.name} runs at the maximum speed of {speed}km/hr\"\n",
        "\n",
        "obj2 = Car(\"Honda City\", 24.1)\n",
        "print(obj2.description()) #accessing protected variable via class method\n",
        "print(obj2.max_speed(150)) \n",
        "print(obj2.name)#accessing protected variable directly from outside"
      ],
      "metadata": {
        "colab": {
          "base_uri": "https://localhost:8080/"
        },
        "id": "qwstdCSOUS9Z",
        "outputId": "101e02e0-e252-43dc-b681-6cddda105cbf"
      },
      "execution_count": 53,
      "outputs": [
        {
          "output_type": "stream",
          "name": "stdout",
          "text": [
            "The Honda City car gives the mileage of 24.1km/l\n",
            "The Honda City runs at the maximum speed of 150km/hr\n",
            "Honda City\n"
          ]
        }
      ]
    }
  ]
}