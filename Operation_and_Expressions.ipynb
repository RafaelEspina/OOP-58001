{
  "nbformat": 4,
  "nbformat_minor": 0,
  "metadata": {
    "colab": {
      "name": "Operation and Expressions.ipynb",
      "provenance": [],
      "authorship_tag": "ABX9TyO725l/doOOzKD6IG08Zhe/",
      "include_colab_link": true
    },
    "kernelspec": {
      "name": "python3",
      "display_name": "Python 3"
    },
    "language_info": {
      "name": "python"
    }
  },
  "cells": [
    {
      "cell_type": "markdown",
      "metadata": {
        "id": "view-in-github",
        "colab_type": "text"
      },
      "source": [
        "<a href=\"https://colab.research.google.com/github/RafaelEspina/OOP-58001/blob/main/Operation_and_Expressions.ipynb\" target=\"_parent\"><img src=\"https://colab.research.google.com/assets/colab-badge.svg\" alt=\"Open In Colab\"/></a>"
      ]
    },
    {
      "cell_type": "markdown",
      "source": [
        "Boolean Operators"
      ],
      "metadata": {
        "id": "A_ZpCjSpekTT"
      }
    },
    {
      "cell_type": "code",
      "execution_count": 4,
      "metadata": {
        "colab": {
          "base_uri": "https://localhost:8080/"
        },
        "id": "nHB-v8mAdDXq",
        "outputId": "829633a9-7f9f-43e4-aca3-836a84add21b"
      },
      "outputs": [
        {
          "output_type": "stream",
          "name": "stdout",
          "text": [
            "True\n",
            "False\n",
            "True\n",
            "False\n"
          ]
        }
      ],
      "source": [
        "print(10 > 9)\n",
        "print(10 == 9)\n",
        "print(10==10)\n",
        "print (10 < 9)"
      ]
    },
    {
      "cell_type": "code",
      "source": [
        "print(bool(1))\n",
        "print(bool(0))\n",
        "print(bool(2))\n",
        "print(\"\\n\")\n",
        "#It is always true unless it is set to false or empty space/set\n",
        "print(bool(False))\n",
        "print(bool(None))\n",
        "print(bool(0))\n",
        "print(bool(\"\"))\n",
        "print(bool(()))"
      ],
      "metadata": {
        "colab": {
          "base_uri": "https://localhost:8080/"
        },
        "id": "1Y2wptD8eqLm",
        "outputId": "6ef27937-c741-412b-89aa-2f93fcbbbca7"
      },
      "execution_count": 14,
      "outputs": [
        {
          "output_type": "stream",
          "name": "stdout",
          "text": [
            "True\n",
            "False\n",
            "True\n",
            "\n",
            "\n",
            "False\n",
            "False\n",
            "False\n",
            "False\n",
            "False\n"
          ]
        }
      ]
    },
    {
      "cell_type": "code",
      "source": [
        "#Functions can return a boolean\n",
        "\n",
        "def myFunction():\n",
        "  return True\n",
        "\n",
        "print(myFunction())"
      ],
      "metadata": {
        "colab": {
          "base_uri": "https://localhost:8080/"
        },
        "id": "itnjEeTnf6MX",
        "outputId": "e5581a1a-47db-4e61-ccc3-775804ed1fbe"
      },
      "execution_count": 15,
      "outputs": [
        {
          "output_type": "stream",
          "name": "stdout",
          "text": [
            "True\n"
          ]
        }
      ]
    },
    {
      "cell_type": "code",
      "source": [
        "#You can you If statements\n",
        "\n",
        "#this will print yes\n",
        "def myFunction():\n",
        "  return True\n",
        "\n",
        "if myFunction():\n",
        "  print(\"YES\")\n",
        "else:\n",
        "  print(\"NO\")\n",
        "\n",
        "print(\"\\n\")\n",
        "\n",
        "#This will print NO\n",
        "\n",
        "def myFunction2():\n",
        "  return False\n",
        "\n",
        "if myFunction2():\n",
        "  print(\"YES\")\n",
        "else:\n",
        "  print(\"NO\")"
      ],
      "metadata": {
        "colab": {
          "base_uri": "https://localhost:8080/"
        },
        "id": "VHFN9vKBgD2n",
        "outputId": "4b02f73e-082f-4d7c-844e-58adcfdfca67"
      },
      "execution_count": 19,
      "outputs": [
        {
          "output_type": "stream",
          "name": "stdout",
          "text": [
            "YES\n",
            "\n",
            "\n",
            "NO\n"
          ]
        }
      ]
    },
    {
      "cell_type": "markdown",
      "source": [
        "Python Operators"
      ],
      "metadata": {
        "id": "ex_quUEohotM"
      }
    },
    {
      "cell_type": "code",
      "source": [
        "# Just like every other Language, there are operators which are ( +, -, *, and /)\n",
        "# And you can also use power, floor, and modulus\n",
        "# Examples\n",
        "\n",
        "print(1 + 1) #Addition\n",
        "print(2 - 5) #Subtraction\n",
        "print(3 * 3) #Multiplication\n",
        "print(25 / 5) #Division\n",
        "print(4 ** 4) #Power\n",
        "print(25 // 5) #Floor\n",
        "print(11 % 5) #Modulus\n"
      ],
      "metadata": {
        "colab": {
          "base_uri": "https://localhost:8080/"
        },
        "id": "HAI0pa56hrOO",
        "outputId": "4ef2c329-7c79-48e5-d40c-c2629c0f1904"
      },
      "execution_count": 21,
      "outputs": [
        {
          "output_type": "stream",
          "name": "stdout",
          "text": [
            "2\n",
            "-3\n",
            "9\n",
            "5.0\n",
            "256\n",
            "5\n",
            "1\n"
          ]
        }
      ]
    },
    {
      "cell_type": "markdown",
      "source": [
        "Python Logical Operators"
      ],
      "metadata": {
        "id": "SQa8D9sOi9Ig"
      }
    },
    {
      "cell_type": "code",
      "source": [
        "#Unlike C++, the logical operators in Python doesnt use &&, ||, ! but uses and, or, and not\n",
        "#Example\n",
        "\n",
        "a = 10\n",
        "b = 10\n",
        "c = 9\n",
        "\n",
        "#True || It is true since a and b is equal 10\n",
        "if a and b == 10:\n",
        "  print(\"True\")\n",
        "else:\n",
        "  print(\"False\")\n",
        "\n",
        "#False || It is False since only one of them is equal to 10\n",
        "if a and c == 10:\n",
        "  print(\"True\")\n",
        "else:\n",
        "  print(\"False\")\n",
        "\n",
        "#True || It is true since one of them is equal to 10 which is a\n",
        "if a or c == 10:\n",
        "  print(\"True\")\n",
        "else:\n",
        "  print(\"False\")\n",
        "\n",
        "#False || It is false since we said that a (which is 10) is not equal to 10\n",
        "if not a == 10:\n",
        "  print(\"True\")\n",
        "else:\n",
        "  print(\"False\")"
      ],
      "metadata": {
        "colab": {
          "base_uri": "https://localhost:8080/"
        },
        "id": "p6e8ydY5i_j_",
        "outputId": "c1d9bae7-0042-4ff8-dfc5-e16d819e504f"
      },
      "execution_count": 27,
      "outputs": [
        {
          "output_type": "stream",
          "name": "stdout",
          "text": [
            "True\n",
            "False\n",
            "True\n",
            "False\n"
          ]
        }
      ]
    },
    {
      "cell_type": "markdown",
      "source": [
        "Conditional Statement in Python\n",
        "\n",
        "#In Conditional Statemetns we have If, Elif (else if), Else, short hand if statement, short hand if else statement, and-both conditions are true, Nested if\n"
      ],
      "metadata": {
        "id": "rqGYntAtouhV"
      }
    },
    {
      "cell_type": "code",
      "source": [
        "a = 10\n",
        "b = 11\n",
        "c = 21\n",
        "#If statement (It will not print since a is not equal to b)\n",
        "if a == b:\n",
        "  print(\"They are equal\")\n",
        "\n",
        "#Elif or else if || It printed\n",
        "\n",
        "if a > b:\n",
        "  print(\"a is greater than b\")\n",
        "elif a != b:\n",
        "  print(\"a is less than b\")\n",
        "\n",
        "#Else || Else is when \"if\" did not work, it will execute \"else\" instead\n",
        "if a == b:\n",
        "  print(\"They are equal\")\n",
        "else:\n",
        "  print(\"They are not equal\")\n",
        "\n",
        "#Short hand if statement\n",
        "if a < b: print(\"a is less than b\")\n",
        "\n",
        "#short hand if else statement\n",
        "print(\"c is greater than a\") if c > a else print(\"c is less than a\")\n",
        "\n",
        "#And-both conditions are true || It printed since both \n",
        "if a < b and c > b:\n",
        "  print(\"Both conditions are true\")\n",
        "\n",
        "#or-at least one of the conditions are true\n",
        "if a > b or c > b:\n",
        "  print(\"One of them is true or both are true\")\n",
        "\n",
        "print(\"\\n\")\n",
        "#Nested if\n",
        "if a < b:\n",
        "  print(\"a is less than b\")\n",
        "  if b < c:\n",
        "    print(\"b is less than c\")\n",
        "    if c == b+a:\n",
        "      print(\"c is equal to b + a\")\n"
      ],
      "metadata": {
        "colab": {
          "base_uri": "https://localhost:8080/"
        },
        "id": "_bmehCBYoxvx",
        "outputId": "37f902d4-9235-44f9-a35e-451b54f0995f"
      },
      "execution_count": 43,
      "outputs": [
        {
          "output_type": "stream",
          "name": "stdout",
          "text": [
            "a is less than b\n",
            "They are not equal\n",
            "a is less than b\n",
            "c is greater than a\n",
            "Both conditions are true\n",
            "One of them is true or both are true\n",
            "\n",
            "\n",
            "a is less than b\n",
            "b is less than c\n",
            "c is equal to b + a\n"
          ]
        }
      ]
    },
    {
      "cell_type": "markdown",
      "source": [
        "Loop Statement"
      ],
      "metadata": {
        "id": "Qu-7xVWg6Jq1"
      }
    },
    {
      "cell_type": "code",
      "source": [
        "numbers = [\"一\", \"二\", \"三\", \"四\", \"五\", \"六\", \"七\", \"八\", \"九\"] # Numbers 1 - 9\n",
        "englishNumbers = [\"one\", \"two\", \"three\", \"four\", \"five\", \"six\", \"seven\", \"eight\", \"nine\"]\n",
        "\n",
        "for x in numbers:\n",
        "  print(x)\n",
        "print(\"\\n\")\n",
        "\n",
        "for x in numbers:\n",
        "  print(x)\n",
        "  if x == \"五\":\n",
        "    break\n",
        "print(\"\\n\")\n",
        "\n",
        "for x in numbers:\n",
        "  if x == \"五\":\n",
        "    break\n",
        "  print(x)\n",
        "print(\"\\n\")\n",
        "\n",
        "for x in \"numbers\":\n",
        "  print(x)\n",
        "print(\"\\n\")\n",
        "\n",
        "for x in range(6):\n",
        "  print(numbers)\n",
        "\n",
        "for x in numbers:\n",
        "  for y in englishNumbers:\n",
        "    print(x,y)"
      ],
      "metadata": {
        "colab": {
          "base_uri": "https://localhost:8080/"
        },
        "id": "Beqi-lAX6Kw_",
        "outputId": "49c63f5b-2ca9-4a0f-9272-1b623f400e68"
      },
      "execution_count": 49,
      "outputs": [
        {
          "output_type": "stream",
          "name": "stdout",
          "text": [
            "一\n",
            "二\n",
            "三\n",
            "四\n",
            "五\n",
            "六\n",
            "七\n",
            "八\n",
            "九\n",
            "\n",
            "\n",
            "一\n",
            "二\n",
            "三\n",
            "四\n",
            "五\n",
            "\n",
            "\n",
            "一\n",
            "二\n",
            "三\n",
            "四\n",
            "\n",
            "\n",
            "n\n",
            "u\n",
            "m\n",
            "b\n",
            "e\n",
            "r\n",
            "s\n",
            "\n",
            "\n",
            "['一', '二', '三', '四', '五', '六', '七', '八', '九']\n",
            "['一', '二', '三', '四', '五', '六', '七', '八', '九']\n",
            "['一', '二', '三', '四', '五', '六', '七', '八', '九']\n",
            "['一', '二', '三', '四', '五', '六', '七', '八', '九']\n",
            "['一', '二', '三', '四', '五', '六', '七', '八', '九']\n",
            "['一', '二', '三', '四', '五', '六', '七', '八', '九']\n",
            "一 one\n",
            "一 two\n",
            "一 three\n",
            "一 four\n",
            "一 five\n",
            "一 six\n",
            "一 seven\n",
            "一 eight\n",
            "一 nine\n",
            "二 one\n",
            "二 two\n",
            "二 three\n",
            "二 four\n",
            "二 five\n",
            "二 six\n",
            "二 seven\n",
            "二 eight\n",
            "二 nine\n",
            "三 one\n",
            "三 two\n",
            "三 three\n",
            "三 four\n",
            "三 five\n",
            "三 six\n",
            "三 seven\n",
            "三 eight\n",
            "三 nine\n",
            "四 one\n",
            "四 two\n",
            "四 three\n",
            "四 four\n",
            "四 five\n",
            "四 six\n",
            "四 seven\n",
            "四 eight\n",
            "四 nine\n",
            "五 one\n",
            "五 two\n",
            "五 three\n",
            "五 four\n",
            "五 five\n",
            "五 six\n",
            "五 seven\n",
            "五 eight\n",
            "五 nine\n",
            "六 one\n",
            "六 two\n",
            "六 three\n",
            "六 four\n",
            "六 five\n",
            "六 six\n",
            "六 seven\n",
            "六 eight\n",
            "六 nine\n",
            "七 one\n",
            "七 two\n",
            "七 three\n",
            "七 four\n",
            "七 five\n",
            "七 six\n",
            "七 seven\n",
            "七 eight\n",
            "七 nine\n",
            "八 one\n",
            "八 two\n",
            "八 three\n",
            "八 four\n",
            "八 five\n",
            "八 six\n",
            "八 seven\n",
            "八 eight\n",
            "八 nine\n",
            "九 one\n",
            "九 two\n",
            "九 three\n",
            "九 four\n",
            "九 five\n",
            "九 six\n",
            "九 seven\n",
            "九 eight\n",
            "九 nine\n"
          ]
        }
      ]
    },
    {
      "cell_type": "markdown",
      "source": [
        "While Loops"
      ],
      "metadata": {
        "id": "PYvZZu_u8_RA"
      }
    },
    {
      "cell_type": "code",
      "source": [
        "i = 0\n",
        "\n",
        "while i < 6:\n",
        "  print(i)\n",
        "  i+=1\n",
        "print(\"\\n\")\n",
        "\n",
        "i = 0\n",
        "while i < 6:\n",
        "  print(i)\n",
        "  if i == 3:\n",
        "    break\n",
        "  i+=1\n",
        "print(\"\\n\")\n",
        "\n",
        "i = 0\n",
        "\n",
        "while i < 6:\n",
        "  i += 1\n",
        "  if i == 4:\n",
        "    continue\n",
        "  print(i)\n",
        "print(\"\\n\")\n",
        "\n",
        "i = 0\n",
        "\n",
        "while i < 6:\n",
        "  print(i)\n",
        "  i += 1\n",
        "else:\n",
        "  print(\"i is no longer less than 6\")"
      ],
      "metadata": {
        "colab": {
          "base_uri": "https://localhost:8080/"
        },
        "id": "YEhb5zD_8FXJ",
        "outputId": "9c90b386-960a-46c4-f01e-72e27ee0ca44"
      },
      "execution_count": 60,
      "outputs": [
        {
          "output_type": "stream",
          "name": "stdout",
          "text": [
            "0\n",
            "1\n",
            "2\n",
            "3\n",
            "4\n",
            "5\n",
            "\n",
            "\n",
            "0\n",
            "1\n",
            "2\n",
            "3\n",
            "\n",
            "\n",
            "1\n",
            "2\n",
            "3\n",
            "5\n",
            "6\n",
            "\n",
            "\n",
            "0\n",
            "1\n",
            "2\n",
            "3\n",
            "4\n",
            "5\n",
            "i is no longer less than 6\n"
          ]
        }
      ]
    },
    {
      "cell_type": "markdown",
      "source": [
        "LETS TRY"
      ],
      "metadata": {
        "id": "mYCHPGi9-ExY"
      }
    },
    {
      "cell_type": "code",
      "source": [
        "#Create a Pyhton program  that displays:\n",
        "\n",
        "for x in range(11):\n",
        "  print(\"Hello\", x)"
      ],
      "metadata": {
        "colab": {
          "base_uri": "https://localhost:8080/"
        },
        "id": "hMumbsf-9UEl",
        "outputId": "906477c4-7d5b-4d5c-e4a0-23266112bb8c"
      },
      "execution_count": 64,
      "outputs": [
        {
          "output_type": "stream",
          "name": "stdout",
          "text": [
            "Hello 0\n",
            "Hello 1\n",
            "Hello 2\n",
            "Hello 3\n",
            "Hello 4\n",
            "Hello 5\n",
            "Hello 6\n",
            "Hello 7\n",
            "Hello 8\n",
            "Hello 9\n",
            "Hello 10\n"
          ]
        }
      ]
    },
    {
      "cell_type": "markdown",
      "source": [
        "LETS TRY"
      ],
      "metadata": {
        "id": "XYLo3QRz-2qP"
      }
    },
    {
      "cell_type": "code",
      "source": [
        "#Create a Python program that displays integers less than 10 but not less than 3\n",
        "\n",
        "for x in range(11):\n",
        "  if x > 2:\n",
        "    print(x)"
      ],
      "metadata": {
        "colab": {
          "base_uri": "https://localhost:8080/"
        },
        "id": "epGd1oiD-3eF",
        "outputId": "bd74bf0f-7466-4fdc-81ad-27e0fd083a63"
      },
      "execution_count": 69,
      "outputs": [
        {
          "output_type": "stream",
          "name": "stdout",
          "text": [
            "3\n",
            "4\n",
            "5\n",
            "6\n",
            "7\n",
            "8\n",
            "9\n",
            "10\n"
          ]
        }
      ]
    }
  ]
}