{
  "nbformat": 4,
  "nbformat_minor": 0,
  "metadata": {
    "colab": {
      "name": "Prelim Exam.ipynb",
      "provenance": [],
      "authorship_tag": "ABX9TyOt7oMm6/f5LH/STz8lzX9e",
      "include_colab_link": true
    },
    "kernelspec": {
      "name": "python3",
      "display_name": "Python 3"
    },
    "language_info": {
      "name": "python"
    }
  },
  "cells": [
    {
      "cell_type": "markdown",
      "metadata": {
        "id": "view-in-github",
        "colab_type": "text"
      },
      "source": [
        "<a href=\"https://colab.research.google.com/github/RafaelEspina/OOP-58001/blob/main/Prelim_Exam.ipynb\" target=\"_parent\"><img src=\"https://colab.research.google.com/assets/colab-badge.svg\" alt=\"Open In Colab\"/></a>"
      ]
    },
    {
      "cell_type": "code",
      "execution_count": null,
      "metadata": {
        "colab": {
          "base_uri": "https://localhost:8080/"
        },
        "id": "MVx5_wXZEnRp",
        "outputId": "08437757-f6bc-4d0b-b888-5cd11a1ceba9"
      },
      "outputs": [
        {
          "output_type": "stream",
          "name": "stdout",
          "text": [
            "Name: Rafael Espiña\n",
            "Student Number: Rafael Espiña\n",
            "Age: 19\n",
            "School: Adamson University\n",
            "Course: BS in Computer Engineering\n"
          ]
        }
      ],
      "source": [
        "class Student:\n",
        "\n",
        "  def __init__(self,Name,Student_No,Age,School,Course):\n",
        "    self.Name = Name\n",
        "    self.Student_No = Student_No\n",
        "    self.Age = Age\n",
        "    self.School = School\n",
        "    self.Course = Course\n",
        "  \n",
        "  def self(self):\n",
        "    return f'Name: {self.Name}\\nStudent Number: {self.Student_No}\\nAge: {self.Age}\\nSchool: {self.School}\\nCourse: {self.Course}'\n",
        "\n",
        "Myself = Student(\"Rafael Espiña\", 202116061, 19, \"Adamson University\", \"BS in Computer Engineering\")\n",
        "print(Myself.self())"
      ]
    },
    {
      "cell_type": "code",
      "source": [
        "n = 20\n",
        "\n",
        "total_numbers = n\n",
        "\n",
        "sum = 0\n",
        "\n",
        "while n >= 0:\n",
        "\n",
        "  sum += n\n",
        "\n",
        "  n -= 1\n",
        "\n",
        "print(\"sum =\", sum)\n",
        "\n",
        "\n",
        "average = sum / total_numbers\n",
        "\n",
        "print(\"Average = \", average)"
      ],
      "metadata": {
        "colab": {
          "base_uri": "https://localhost:8080/"
        },
        "id": "lUo9kwtj7E6i",
        "outputId": "498db6fa-3b6e-4358-8cbc-8feaa0db0b2f"
      },
      "execution_count": 1,
      "outputs": [
        {
          "output_type": "stream",
          "name": "stdout",
          "text": [
            "sum = 210\n",
            "Average =  10.5\n"
          ]
        }
      ]
    }
  ]
}