{
  "nbformat": 4,
  "nbformat_minor": 0,
  "metadata": {
    "colab": {
      "name": "Prelim Exam.ipynb",
      "provenance": [],
      "authorship_tag": "ABX9TyOwkVa2fi31lq0n2ssSX84z",
      "include_colab_link": true
    },
    "kernelspec": {
      "name": "python3",
      "display_name": "Python 3"
    },
    "language_info": {
      "name": "python"
    }
  },
  "cells": [
    {
      "cell_type": "markdown",
      "metadata": {
        "id": "view-in-github",
        "colab_type": "text"
      },
      "source": [
        "<a href=\"https://colab.research.google.com/github/RafaelEspina/OOP-58001/blob/main/Prelim_Exam.ipynb\" target=\"_parent\"><img src=\"https://colab.research.google.com/assets/colab-badge.svg\" alt=\"Open In Colab\"/></a>"
      ]
    },
    {
      "cell_type": "code",
      "execution_count": 1,
      "metadata": {
        "colab": {
          "base_uri": "https://localhost:8080/"
        },
        "id": "MVx5_wXZEnRp",
        "outputId": "08437757-f6bc-4d0b-b888-5cd11a1ceba9"
      },
      "outputs": [
        {
          "output_type": "stream",
          "name": "stdout",
          "text": [
            "Name: Rafael Espiña\n",
            "Student Number: Rafael Espiña\n",
            "Age: 19\n",
            "School: Adamson University\n",
            "Course: BS in Computer Engineering\n"
          ]
        }
      ],
      "source": [
        "class Student:\n",
        "\n",
        "  def __init__(self,Name,Student_No,Age,School,Course):\n",
        "    self.Name = Name\n",
        "    self.Student_No = Student_No\n",
        "    self.Age = Age\n",
        "    self.School = School\n",
        "    self.Course = Course\n",
        "  \n",
        "  def self(self):\n",
        "    return f'Name: {self.Name}\\nStudent Number: {self.Student_No}\\nAge: {self.Age}\\nSchool: {self.School}\\nCourse: {self.Course}'\n",
        "\n",
        "Myself = Student(\"Rafael Espiña\", 202116061, 19, \"Adamson University\", \"BS in Computer Engineering\")\n",
        "print(Myself.self())"
      ]
    }
  ]
}