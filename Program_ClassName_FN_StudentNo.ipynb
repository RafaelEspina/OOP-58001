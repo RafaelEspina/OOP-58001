{
  "nbformat": 4,
  "nbformat_minor": 0,
  "metadata": {
    "colab": {
      "name": "Program_ClassName_FN_StudentNo.ipynb",
      "provenance": [],
      "authorship_tag": "ABX9TyPJhxkDxuev3vOL0m2APuuk",
      "include_colab_link": true
    },
    "kernelspec": {
      "name": "python3",
      "display_name": "Python 3"
    },
    "language_info": {
      "name": "python"
    }
  },
  "cells": [
    {
      "cell_type": "markdown",
      "metadata": {
        "id": "view-in-github",
        "colab_type": "text"
      },
      "source": [
        "<a href=\"https://colab.research.google.com/github/RafaelEspina/OOP-58001/blob/main/Program_ClassName_FN_StudentNo.ipynb\" target=\"_parent\"><img src=\"https://colab.research.google.com/assets/colab-badge.svg\" alt=\"Open In Colab\"/></a>"
      ]
    },
    {
      "cell_type": "code",
      "execution_count": 10,
      "metadata": {
        "colab": {
          "base_uri": "https://localhost:8080/"
        },
        "id": "aDQECnzjSfqy",
        "outputId": "83d23bd9-b7a6-40f4-caaa-82a8f159d1ac"
      },
      "outputs": [
        {
          "output_type": "stream",
          "name": "stdout",
          "text": [
            "Class name: OOP_58001\n",
            "Student number: 202116061\n",
            "Full name: Espiña, Rafael B.\n"
          ]
        }
      ],
      "source": [
        "#Include your python program to display a class name OOP_58001 with your student no. and full name (Surname, First Name) as attributes\n",
        "\n",
        "class OOP_58001:\n",
        "\n",
        "  def __init__(self, classNumber,number,name):\n",
        "    self.name = name\n",
        "    self.number = number\n",
        "    self.classNumber = classNumber\n",
        "\n",
        "  def studentNO_FN(self):\n",
        "    return f\"Class name: {self.classNumber}\\nStudent number: {self.number}\\nFull name: {self.name}\"\n",
        "  \n",
        "display = OOP_58001(\"OOP_58001\", 202116061, \"Espiña, Rafael B.\")\n",
        "print(display.studentNO_FN())"
      ]
    }
  ]
}